{
 "cells": [
  {
   "cell_type": "code",
   "execution_count": 0,
   "metadata": {
    "application/vnd.databricks.v1+cell": {
     "cellMetadata": {
      "byteLimit": 2048000,
      "rowLimit": 10000
     },
     "inputWidgets": {},
     "nuid": "d1637625-0ee6-4201-98a9-c26543e8e0a4",
     "showTitle": false,
     "tableResultSettingsMap": {},
     "title": ""
    }
   },
   "outputs": [],
   "source": [
    "import datetime\n",
    "import requests\n",
    "import json\n",
    "from tqdm import tqdm\n",
    "\n",
    "from multiprocessing import Pool\n",
    "\n",
    "\n",
    "def get_and_save(url):\n",
    "    data = requests.get(url).json()\n",
    "    now = datetime.datetime.now().strftime('%Y%m%d%H%M%S')\n",
    "    filename = f\"/Volumes/etl_data_lakehouse/pokemon/pokemon_raw/pokemons_details/{data['id']}_{now}.json\"\n",
    "    with open(filename, 'w') as openfile:\n",
    "        json.dump(data, openfile)\n",
    "\n",
    "df = spark.table(\"bronze.pokemon.pokemon_list\")\n",
    "urls = df.select(\"url\").toPandas()[\"url\"].tolist()\n",
    "\n",
    "with Pool(4) as p:\n",
    "    print(p.map(get_and_save, urls))"
   ]
  },
  {
   "cell_type": "code",
   "execution_count": 0,
   "metadata": {
    "application/vnd.databricks.v1+cell": {
     "cellMetadata": {
      "byteLimit": 2048000,
      "rowLimit": 10000
     },
     "inputWidgets": {},
     "nuid": "4c7725da-ede7-4a13-bcd5-8f6ed1bf3143",
     "showTitle": false,
     "tableResultSettingsMap": {},
     "title": ""
    }
   },
   "outputs": [],
   "source": [
    "df = spark.read.json(\"/Volumes/etl_data_lakehouse/pokemon/pokemon_raw/pokemons_details\")\n",
    "df.display()"
   ]
  },
  {
   "cell_type": "code",
   "execution_count": 0,
   "metadata": {
    "application/vnd.databricks.v1+cell": {
     "cellMetadata": {},
     "inputWidgets": {},
     "nuid": "67655743-6088-461f-a0e2-f4c299db8d01",
     "showTitle": false,
     "tableResultSettingsMap": {},
     "title": ""
    }
   },
   "outputs": [],
   "source": []
  }
 ],
 "metadata": {
  "application/vnd.databricks.v1+notebook": {
   "computePreferences": null,
   "dashboards": [],
   "environmentMetadata": {
    "base_environment": "",
    "environment_version": "2"
   },
   "language": "python",
   "notebookMetadata": {
    "pythonIndentUnit": 4
   },
   "notebookName": "pokemon_details",
   "widgets": {}
  },
  "language_info": {
   "name": "python"
  }
 },
 "nbformat": 4,
 "nbformat_minor": 0
}
